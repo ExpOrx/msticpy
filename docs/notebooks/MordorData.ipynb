{
 "cells": [
  {
   "cell_type": "markdown",
   "metadata": {},
   "source": [
    "# MSTICpy - Mordor data provider and browser\n",
    "\n",
    "### Description\n",
    "This notebook provides a guided example of using the Mordor data provider and browser included with MSTICpy.\n",
    "\n",
    "For more information on the Mordor data sets see the [Open Threat Research Forge Mordor GitHub repo](https://github.com/OTRF/mordor)\n",
    "\n",
    "### Contents:\n",
    "- Using the Mordor data provider to retrieve data sets\n",
    "  - Listing queries\n",
    "  - Running a query to retrieve data\n",
    "  - Optional parameters\n",
    "  - Searching for queries by Mordor property\n",
    "- Mordor Browser\n"
   ]
  },
  {
   "cell_type": "code",
   "execution_count": 1,
   "metadata": {},
   "outputs": [
    {
     "name": "stdout",
     "output_type": "stream",
     "text": [
      "Processing imports....\n",
      "Checking configuration....\n",
      "No errors found.\n",
      "\n",
      "The following configuration warnings were found: \n",
      " -------------------------------------------------\n",
      "No AzureCLI section in settings.\n",
      "Setting notebook options....\n"
     ]
    },
    {
     "data": {
      "text/html": [
       "<h3>Notebook setup complete</h3>"
      ],
      "text/plain": [
       "<IPython.core.display.HTML object>"
      ]
     },
     "metadata": {},
     "output_type": "display_data"
    },
    {
     "data": {
      "text/plain": [
       "True"
      ]
     },
     "execution_count": 1,
     "metadata": {},
     "output_type": "execute_result"
    }
   ],
   "source": [
    "from msticpy.nbtools import nbinit\n",
    "nbinit.init_notebook(\n",
    "    namespace=globals(),\n",
    ")"
   ]
  },
  {
   "cell_type": "markdown",
   "metadata": {},
   "source": [
    "## Using the Data Provider to download datasets\n",
    "\n",
    "Using the data provider you can download and render event data as a pandas DataFrame.\n",
    "\n",
    "> **Note** - Mordor includes both host event data and network capture data.<br>\n",
    "> Although Capture files can be downloaded and unpacked<br>\n",
    "> they currently cannot be populated into a pandas DataFrame.\n",
    "> This is the case for most `network` datasets.<br>\n",
    "> `Host` event data is retrieved and populated into DataFrames.\n"
   ]
  },
  {
   "cell_type": "code",
   "execution_count": 2,
   "metadata": {},
   "outputs": [
    {
     "name": "stdout",
     "output_type": "stream",
     "text": [
      "Retrieving Mitre data...\n",
      "Retrieving Mordor data...\n"
     ]
    },
    {
     "data": {
      "application/vnd.jupyter.widget-view+json": {
       "model_id": "2d5332599fdc43f0a2a2c67990163d86",
       "version_major": 2,
       "version_minor": 0
      },
      "text/plain": [
       "HBox(children=(FloatProgress(value=0.0, description='Downloading Mordor files', max=57.0, style=ProgressStyle(…"
      ]
     },
     "metadata": {},
     "output_type": "display_data"
    },
    {
     "name": "stdout",
     "output_type": "stream",
     "text": [
      "\n"
     ]
    }
   ],
   "source": [
    "mdr_data = QueryProvider(\"Mordor\")\n",
    "mdr_data.connect()"
   ]
  },
  {
   "cell_type": "markdown",
   "metadata": {},
   "source": [
    "### List Queries\n",
    "\n",
    "> Note: Many Mordor data entries have multiple data sets, so we see more queries than Mordor entries.\n",
    "\n",
    "(Only first 15 shown)"
   ]
  },
  {
   "cell_type": "code",
   "execution_count": 3,
   "metadata": {},
   "outputs": [
    {
     "data": {
      "text/plain": [
       "['small.aws.collection.ec2_proxy_s3_exfiltration',\n",
       " 'small.windows.collection.host.msf_record_mic',\n",
       " 'small.windows.credential_access.host.covenant_dcsync_dcerpc_drsuapi_DsGetNCChanges',\n",
       " 'small.windows.credential_access.host.empire_dcsync_dcerpc_drsuapi_DsGetNCChanges',\n",
       " 'small.windows.credential_access.host.empire_mimikatz_backupkeys_dcerpc_smb_lsarpc',\n",
       " 'small.windows.credential_access.host.empire_mimikatz_extract_keys',\n",
       " 'small.windows.credential_access.host.empire_mimikatz_logonpasswords',\n",
       " 'small.windows.credential_access.host.empire_mimikatz_lsadump_patch',\n",
       " 'small.windows.credential_access.host.empire_mimikatz_sam_access',\n",
       " 'small.windows.credential_access.host.empire_over_pth_patch_lsass',\n",
       " 'small.windows.credential_access.host.empire_powerdump_sam_access',\n",
       " 'small.windows.credential_access.host.empire_shell_reg_dump_sam',\n",
       " 'small.windows.credential_access.host.empire_shell_rubeus_asktgt_createnetonly',\n",
       " 'small.windows.credential_access.host.empire_shell_rubeus_asktgt_ptt',\n",
       " 'small.windows.credential_access.host.rdp_interactive_taskmanager_lsass_dump']"
      ]
     },
     "execution_count": 3,
     "metadata": {},
     "output_type": "execute_result"
    }
   ],
   "source": [
    "mdr_data.list_queries()[:15]"
   ]
  },
  {
   "cell_type": "markdown",
   "metadata": {},
   "source": [
    "### Retrieving/querying a data set"
   ]
  },
  {
   "cell_type": "code",
   "execution_count": 17,
   "metadata": {},
   "outputs": [
    {
     "name": "stdout",
     "output_type": "stream",
     "text": [
      "https://raw.githubusercontent.com/OTRF/mordor/master/datasets/small/windows/credential_access/host/covenant_dcsync_dcerpc_drsuapi_DsGetNCChanges.zip\n",
      "Extracting covenant_dcsync_dcerpc_drsuapi_DsGetNCChanges_2020-08-05020926.json\n"
     ]
    },
    {
     "data": {
      "application/vnd.jupyter.widget-view+json": {
       "model_id": "c19fa293822a43369df47984c2b369ab",
       "version_major": 2,
       "version_minor": 0
      },
      "text/plain": [
       "HBox(children=(FloatProgress(value=1.0, bar_style='info', description='lines', max=1.0, style=ProgressStyle(de…"
      ]
     },
     "metadata": {},
     "output_type": "display_data"
    },
    {
     "name": "stdout",
     "output_type": "stream",
     "text": [
      "\n"
     ]
    }
   ],
   "source": [
    "mdr_data.small.windows.credential_access.host.covenant_dcsync_dcerpc_drsuapi_DsGetNCChanges().head(3)"
   ]
  },
  {
   "cell_type": "markdown",
   "metadata": {},
   "source": [
    "### Optional parameters to query\n",
    "\n",
    "- **use_cached** : bool, optional<br>\n",
    "  Try to use locally saved file first, by default True. If you've previously downloaded a file, it will use this rather than downloading a new copy.\n",
    "- **save_folder** : str, optional<br>\n",
    "  Path to output folder, by default \".\". The path that downloaded and extracted files are saved to.\n",
    "- **silent** : bool<br>\n",
    "  If True, suppress feedback. By default, False.\n"
   ]
  },
  {
   "cell_type": "code",
   "execution_count": 9,
   "metadata": {},
   "outputs": [
    {
     "data": {
      "text/html": [
       "<div>\n",
       "<style scoped>\n",
       "    .dataframe tbody tr th:only-of-type {\n",
       "        vertical-align: middle;\n",
       "    }\n",
       "\n",
       "    .dataframe tbody tr th {\n",
       "        vertical-align: top;\n",
       "    }\n",
       "\n",
       "    .dataframe thead th {\n",
       "        text-align: right;\n",
       "    }\n",
       "</style>\n",
       "<table border=\"1\" class=\"dataframe\">\n",
       "  <thead>\n",
       "    <tr style=\"text-align: right;\">\n",
       "      <th></th>\n",
       "      <th>@version</th>\n",
       "      <th>Keywords</th>\n",
       "      <th>ThreadID</th>\n",
       "      <th>Version</th>\n",
       "      <th>DestAddress</th>\n",
       "      <th>host</th>\n",
       "      <th>LayerRTID</th>\n",
       "      <th>Message</th>\n",
       "      <th>SourceModuleName</th>\n",
       "      <th>SourceName</th>\n",
       "      <th>SeverityValue</th>\n",
       "      <th>LayerName</th>\n",
       "      <th>tags</th>\n",
       "      <th>Channel</th>\n",
       "      <th>ProviderGuid</th>\n",
       "      <th>EventID</th>\n",
       "      <th>RecordNumber</th>\n",
       "      <th>Hostname</th>\n",
       "      <th>Category</th>\n",
       "      <th>Opcode</th>\n",
       "      <th>Protocol</th>\n",
       "      <th>ProcessId</th>\n",
       "      <th>SourceModuleType</th>\n",
       "      <th>port</th>\n",
       "      <th>Application</th>\n",
       "      <th>...</th>\n",
       "      <th>Service</th>\n",
       "      <th>TicketEncryptionType</th>\n",
       "      <th>ServiceSid</th>\n",
       "      <th>TicketOptions</th>\n",
       "      <th>Status</th>\n",
       "      <th>ServiceName</th>\n",
       "      <th>TargetHandleId</th>\n",
       "      <th>SourceHandleId</th>\n",
       "      <th>HandleId</th>\n",
       "      <th>ObjectName</th>\n",
       "      <th>AccessReason</th>\n",
       "      <th>RestrictedSidCount</th>\n",
       "      <th>ResourceAttributes</th>\n",
       "      <th>TransactionId</th>\n",
       "      <th>AdditionalInfo</th>\n",
       "      <th>Properties</th>\n",
       "      <th>OperationType</th>\n",
       "      <th>QueryName</th>\n",
       "      <th>QueryResults</th>\n",
       "      <th>QueryStatus</th>\n",
       "      <th>PipeName</th>\n",
       "      <th>DisabledPrivilegeList</th>\n",
       "      <th>EnabledPrivilegeList</th>\n",
       "      <th>ShareLocalPath</th>\n",
       "      <th>RelativeTargetName</th>\n",
       "    </tr>\n",
       "  </thead>\n",
       "  <tbody>\n",
       "    <tr>\n",
       "      <th>0</th>\n",
       "      <td>1</td>\n",
       "      <td>-9214364837600034816</td>\n",
       "      <td>4888</td>\n",
       "      <td>1</td>\n",
       "      <td>239.255.255.250</td>\n",
       "      <td>wec.internal.cloudapp.net</td>\n",
       "      <td>44</td>\n",
       "      <td>The Windows Filtering Platform has permitted a connection.\\r\\n\\r\\nApplication Information:\\r\\n\\t...</td>\n",
       "      <td>eventlog</td>\n",
       "      <td>Microsoft-Windows-Security-Auditing</td>\n",
       "      <td>2</td>\n",
       "      <td>%%14610</td>\n",
       "      <td>[mordorDataset]</td>\n",
       "      <td>Security</td>\n",
       "      <td>{54849625-5478-4994-A5BA-3E3B0328C30D}</td>\n",
       "      <td>5156</td>\n",
       "      <td>110748</td>\n",
       "      <td>WORKSTATION5.theshire.local</td>\n",
       "      <td>Filtering Platform Connection</td>\n",
       "      <td>Info</td>\n",
       "      <td>17</td>\n",
       "      <td>116</td>\n",
       "      <td>im_msvistalog</td>\n",
       "      <td>53997</td>\n",
       "      <td>\\device\\harddiskvolume2\\windows\\system32\\svchost.exe</td>\n",
       "      <td>...</td>\n",
       "      <td>NaN</td>\n",
       "      <td>NaN</td>\n",
       "      <td>NaN</td>\n",
       "      <td>NaN</td>\n",
       "      <td>NaN</td>\n",
       "      <td>NaN</td>\n",
       "      <td>NaN</td>\n",
       "      <td>NaN</td>\n",
       "      <td>NaN</td>\n",
       "      <td>NaN</td>\n",
       "      <td>NaN</td>\n",
       "      <td>NaN</td>\n",
       "      <td>NaN</td>\n",
       "      <td>NaN</td>\n",
       "      <td>NaN</td>\n",
       "      <td>NaN</td>\n",
       "      <td>NaN</td>\n",
       "      <td>NaN</td>\n",
       "      <td>NaN</td>\n",
       "      <td>NaN</td>\n",
       "      <td>NaN</td>\n",
       "      <td>NaN</td>\n",
       "      <td>NaN</td>\n",
       "      <td>NaN</td>\n",
       "      <td>NaN</td>\n",
       "    </tr>\n",
       "    <tr>\n",
       "      <th>1</th>\n",
       "      <td>1</td>\n",
       "      <td>-9223372036854775808</td>\n",
       "      <td>4452</td>\n",
       "      <td>2</td>\n",
       "      <td>NaN</td>\n",
       "      <td>wec.internal.cloudapp.net</td>\n",
       "      <td>NaN</td>\n",
       "      <td>File created:\\r\\nRuleName: -\\r\\nUtcTime: 2020-08-05 06:09:27.568\\r\\nProcessGuid: {8715b604-0dee-...</td>\n",
       "      <td>eventlog</td>\n",
       "      <td>Microsoft-Windows-Sysmon</td>\n",
       "      <td>2</td>\n",
       "      <td>NaN</td>\n",
       "      <td>[mordorDataset]</td>\n",
       "      <td>Microsoft-Windows-Sysmon/Operational</td>\n",
       "      <td>{5770385F-C22A-43E0-BF4C-06F5698FFBD9}</td>\n",
       "      <td>11</td>\n",
       "      <td>479930</td>\n",
       "      <td>WORKSTATION5.theshire.local</td>\n",
       "      <td>NaN</td>\n",
       "      <td>NaN</td>\n",
       "      <td>NaN</td>\n",
       "      <td>1988</td>\n",
       "      <td>im_msvistalog</td>\n",
       "      <td>53997</td>\n",
       "      <td>NaN</td>\n",
       "      <td>...</td>\n",
       "      <td>NaN</td>\n",
       "      <td>NaN</td>\n",
       "      <td>NaN</td>\n",
       "      <td>NaN</td>\n",
       "      <td>NaN</td>\n",
       "      <td>NaN</td>\n",
       "      <td>NaN</td>\n",
       "      <td>NaN</td>\n",
       "      <td>NaN</td>\n",
       "      <td>NaN</td>\n",
       "      <td>NaN</td>\n",
       "      <td>NaN</td>\n",
       "      <td>NaN</td>\n",
       "      <td>NaN</td>\n",
       "      <td>NaN</td>\n",
       "      <td>NaN</td>\n",
       "      <td>NaN</td>\n",
       "      <td>NaN</td>\n",
       "      <td>NaN</td>\n",
       "      <td>NaN</td>\n",
       "      <td>NaN</td>\n",
       "      <td>NaN</td>\n",
       "      <td>NaN</td>\n",
       "      <td>NaN</td>\n",
       "      <td>NaN</td>\n",
       "    </tr>\n",
       "  </tbody>\n",
       "</table>\n",
       "<p>2 rows × 145 columns</p>\n",
       "</div>"
      ],
      "text/plain": [
       "  @version             Keywords  ThreadID  Version      DestAddress  \\\n",
       "0        1 -9214364837600034816      4888        1  239.255.255.250   \n",
       "1        1 -9223372036854775808      4452        2              NaN   \n",
       "\n",
       "                        host LayerRTID  \\\n",
       "0  wec.internal.cloudapp.net        44   \n",
       "1  wec.internal.cloudapp.net       NaN   \n",
       "\n",
       "                                                                                               Message  \\\n",
       "0  The Windows Filtering Platform has permitted a connection.\\r\\n\\r\\nApplication Information:\\r\\n\\t...   \n",
       "1  File created:\\r\\nRuleName: -\\r\\nUtcTime: 2020-08-05 06:09:27.568\\r\\nProcessGuid: {8715b604-0dee-...   \n",
       "\n",
       "  SourceModuleName                           SourceName  SeverityValue  \\\n",
       "0         eventlog  Microsoft-Windows-Security-Auditing              2   \n",
       "1         eventlog             Microsoft-Windows-Sysmon              2   \n",
       "\n",
       "  LayerName             tags                               Channel  \\\n",
       "0   %%14610  [mordorDataset]                              Security   \n",
       "1       NaN  [mordorDataset]  Microsoft-Windows-Sysmon/Operational   \n",
       "\n",
       "                             ProviderGuid  EventID  RecordNumber  \\\n",
       "0  {54849625-5478-4994-A5BA-3E3B0328C30D}     5156        110748   \n",
       "1  {5770385F-C22A-43E0-BF4C-06F5698FFBD9}       11        479930   \n",
       "\n",
       "                      Hostname                       Category Opcode Protocol  \\\n",
       "0  WORKSTATION5.theshire.local  Filtering Platform Connection   Info       17   \n",
       "1  WORKSTATION5.theshire.local                            NaN    NaN      NaN   \n",
       "\n",
       "  ProcessId SourceModuleType   port  \\\n",
       "0       116    im_msvistalog  53997   \n",
       "1      1988    im_msvistalog  53997   \n",
       "\n",
       "                                            Application  ... Service  \\\n",
       "0  \\device\\harddiskvolume2\\windows\\system32\\svchost.exe  ...     NaN   \n",
       "1                                                   NaN  ...     NaN   \n",
       "\n",
       "  TicketEncryptionType ServiceSid TicketOptions  Status ServiceName  \\\n",
       "0                  NaN        NaN           NaN     NaN         NaN   \n",
       "1                  NaN        NaN           NaN     NaN         NaN   \n",
       "\n",
       "   TargetHandleId SourceHandleId  HandleId ObjectName AccessReason  \\\n",
       "0             NaN            NaN       NaN        NaN          NaN   \n",
       "1             NaN            NaN       NaN        NaN          NaN   \n",
       "\n",
       "  RestrictedSidCount ResourceAttributes TransactionId AdditionalInfo  \\\n",
       "0                NaN                NaN           NaN            NaN   \n",
       "1                NaN                NaN           NaN            NaN   \n",
       "\n",
       "  Properties OperationType QueryName QueryResults QueryStatus PipeName  \\\n",
       "0        NaN           NaN       NaN          NaN         NaN      NaN   \n",
       "1        NaN           NaN       NaN          NaN         NaN      NaN   \n",
       "\n",
       "  DisabledPrivilegeList EnabledPrivilegeList ShareLocalPath RelativeTargetName  \n",
       "0                   NaN                  NaN            NaN                NaN  \n",
       "1                   NaN                  NaN            NaN                NaN  \n",
       "\n",
       "[2 rows x 145 columns]"
      ]
     },
     "execution_count": 9,
     "metadata": {},
     "output_type": "execute_result"
    }
   ],
   "source": [
    "mdr_data.small.windows.credential_access.host.covenant_dcsync_dcerpc_drsuapi_DsGetNCChanges(silent=True).head(2)"
   ]
  },
  {
   "cell_type": "markdown",
   "metadata": {},
   "source": [
    "## Getting summary data about a query\n",
    "\n",
    "Call the query function with a single \"?\" parameter."
   ]
  },
  {
   "cell_type": "code",
   "execution_count": 19,
   "metadata": {},
   "outputs": [
    {
     "name": "stdout",
     "output_type": "stream",
     "text": [
      "Query:  covenant_dcsync_dcerpc_drsuapi_DsGetNCChanges\n",
      "Data source:  Mordor\n",
      "Covenant DCSync\n",
      "\n",
      "Notes\n",
      "-----\n",
      "Mordor ID: SDWIN-200805020926\n",
      "This dataset represents adversaries abusing Active Directory Replication services to retrieve secret domain data (i.e. NTLM hashes) from domain accounts.\n",
      "\n",
      "Mitre Techniques: T1003: OS Credential Dumping\n",
      "Mitre Tactics: TA0006: Credential Access\n",
      "\n",
      "Parameters\n",
      "----------\n",
      "Query:\n",
      "https://raw.githubusercontent.com/OTRF/mordor/master/datasets/small/windows/credential_access/host/covenant_dcsync_dcerpc_drsuapi_DsGetNCChanges.zip\n"
     ]
    }
   ],
   "source": [
    "mdr_data.small.windows.credential_access.host.covenant_dcsync_dcerpc_drsuapi_DsGetNCChanges(\"?\")"
   ]
  },
  {
   "cell_type": "markdown",
   "metadata": {},
   "source": [
    "### Searching for Queries with QueryProvider.search_queries()\n",
    "Search queries for matching attributes.\n",
    "\n",
    "#### Parameters\n",
    "\n",
    "**search** : str  Search string. \n",
    "\n",
    "Substrings separated by commas will be treated as OR terms - e.g. \"a, b\" == \"a\" or \"b\".<br>\n",
    "Substrings separated by \"+\" will be treated as AND terms - e.g. \"a + b\" == \"a\" and \"b\"\n",
    "\n",
    "#### Returns\n",
    "List of matching query names."
   ]
  },
  {
   "cell_type": "code",
   "execution_count": 6,
   "metadata": {},
   "outputs": [
    {
     "data": {
      "text/plain": [
       "['small.aws.collection.ec2_proxy_s3_exfiltration (AWS Cloud Bank Breach S3)']"
      ]
     },
     "execution_count": 6,
     "metadata": {},
     "output_type": "execute_result"
    }
   ],
   "source": [
    "mdr_data.search_queries(\"AWS\")"
   ]
  },
  {
   "cell_type": "code",
   "execution_count": 7,
   "metadata": {},
   "outputs": [
    {
     "data": {
      "text/plain": [
       "['small.windows.defense_evasion.host.empire_powerview_ldap_ntsecuritydescriptor (Empire Powerview Add-DomainObjectAcl)',\n",
       " 'small.windows.defense_evasion.network.empire_powerview_ldap_ntsecuritydescriptor (Empire Powerview Add-DomainObjectAcl)']"
      ]
     },
     "execution_count": 7,
     "metadata": {},
     "output_type": "execute_result"
    }
   ],
   "source": [
    "mdr_data.search_queries(\"Empire + T1222\")"
   ]
  },
  {
   "cell_type": "code",
   "execution_count": 8,
   "metadata": {},
   "outputs": [
    {
     "data": {
      "text/plain": [
       "['small.windows.credential_access.host.empire_dcsync_dcerpc_drsuapi_DsGetNCChanges (Empire DCSync)',\n",
       " 'small.windows.credential_access.network.empire_dcsync_dcerpc_drsuapi_DsGetNCChanges (Empire DCSync)',\n",
       " 'small.windows.defense_evasion.host.empire_wdigest_downgrade.tar (Empire WDigest Downgrade)',\n",
       " 'small.windows.credential_access.host.empire_mimikatz_sam_access (Empire Mimikatz SAM Extract Hashes)',\n",
       " 'small.windows.credential_access.host.empire_mimikatz_lsadump_patch (Empire Mimikatz Lsadump LSA Patch)',\n",
       " 'small.windows.credential_access.host.empire_mimikatz_logonpasswords (Empire Mimikatz LogonPasswords)']"
      ]
     },
     "execution_count": 8,
     "metadata": {},
     "output_type": "execute_result"
    }
   ],
   "source": [
    "mdr_data.search_queries(\"Empire + Credential\")"
   ]
  },
  {
   "cell_type": "markdown",
   "metadata": {},
   "source": [
    "## Mordor Browser\n",
    "\n",
    "We've also built a more specialized browser for Mordor data. This uses the metadata in the repository to let you view full details of the dataset.\n",
    "\n",
    "You can also preview the dataset (if it is convertible to a DataFrame).\n",
    "\n",
    "For details of the data shown please see the [Mordor GitHub repo](https://github.com/OTRF/mordor)<br> and the [Threat Hunter Playbook](https://threathunterplaybook.com/introduction.html)\n"
   ]
  },
  {
   "cell_type": "code",
   "execution_count": 12,
   "metadata": {},
   "outputs": [
    {
     "name": "stdout",
     "output_type": "stream",
     "text": [
      "Retrieving Mitre data...\n",
      "Retrieving Mordor data...\n"
     ]
    },
    {
     "data": {
      "application/vnd.jupyter.widget-view+json": {
       "model_id": "80e0be9f5c9646228f13330a729c85bb",
       "version_major": 2,
       "version_minor": 0
      },
      "text/plain": [
       "VBox(children=(VBox(children=(HTML(value='<h2>Mordor dataset browser</h2>'), Select(description='Data sets', l…"
      ]
     },
     "metadata": {},
     "output_type": "display_data"
    },
    {
     "data": {
      "text/html": [
       "<p>"
      ],
      "text/plain": [
       "<IPython.core.display.HTML object>"
      ]
     },
     "metadata": {},
     "output_type": "display_data"
    }
   ],
   "source": [
    "from msticpy.data.browsers.mordor_browser import MordorBrowser\n",
    "\n",
    "mdr_browser = MordorBrowser()"
   ]
  },
  {
   "cell_type": "markdown",
   "metadata": {},
   "source": [
    "### Browser Description\n",
    "The top scrollable list is a list of the Mordor datasets. Selecting one of these updates the data in the lower half of the browser.\n",
    "\n",
    "#### Filter Drop-down\n",
    "To narrow your search you can filter using a text search or filter by Mitre Attack Techniques or Tactics.\n",
    "- The Filter text box uses the same syntax as the provider `search_queries()` function.\n",
    "  - Simple text string will find matches for datasets that contain this string\n",
    "  - Strings separated by \",\" are treated as OR terms - i.e. it will match items that contain ANY of the substrings\n",
    "  - Strings separated by \"+\" are treated as AND terms - i.e. it will match items that contain ALL of the substrings\n",
    "- The Mitre Techniques and Tactics lists are multi-select lists. Only items that have techniques and tactics matching\n",
    "  the selected items will be show.\n",
    "- Reset Filter button will clear any filtering.\n",
    "\n",
    "#### Main Details Window\n",
    "- title, ID, author, creation date, modification date and description are self-explanatory.\n",
    "- tags can be used for searching\n",
    "- file_paths (see below)\n",
    "- attacks - lists related Mitre Technique and Tactics. The item title is a link to the Mitre page describing the technique or tactic.\n",
    "- notebooks - if there is a notebook in the Threat Hunter Playbook site, a link to it is shown here. (multiple notebooks might be shown)\n",
    "- simulation - raw data listing the steps in the attack (and useful for replaying the attack in a demo environment).\n",
    "- references - links to any external data about the attack.\n",
    "\n",
    "#### File_paths\n",
    "This section allows you to select, download and (in most cases) display the event data relating to the attack.\n",
    "\n",
    "Select a file and click on the Download button.\n",
    "\n",
    "The zipped file is downloaded and extracted. If it is event data, this is converted to a\n",
    "pandas DataFrame and displayed below the rest of the data.\n",
    "\n",
    "The current dataset is available as an attribute of the browser:\n",
    "```\n",
    "    mdr_browser.current_dataset\n",
    "```\n",
    "\n",
    "Datasets that you've downloaded and displayed in this session are also cached in the browser and available in the \n",
    "`mdr_browser.datasets` attribute.\n",
    "\n",
    "#### Downloaded files\n",
    "By default files are downloaded and extracted to the current folder. You can change this with the\n",
    "`save_folder` parameter when creating the `MordorBrowser` object.\n",
    "\n",
    "You can also specify the `use_cached` parameter. By default, this is `True`, which causes downloaded files not\n",
    "to be deleted after extraction. These local copies are used if you try to view the same data set again.\n",
    "This also works across sessions.\n",
    "\n",
    "If `use_cache` is set to False, files are deleted immediately after downloading, extracting and populating the\n",
    "DataFrame."
   ]
  },
  {
   "cell_type": "markdown",
   "metadata": {},
   "source": [
    "### Using the standard query browser\n",
    "\n",
    "> **Note** - In the `Example` section, ignore the examples of parameters<br>\n",
    "> passed to the query - these are not needed and ignored."
   ]
  },
  {
   "cell_type": "code",
   "execution_count": 11,
   "metadata": {},
   "outputs": [
    {
     "data": {
      "application/vnd.jupyter.widget-view+json": {
       "model_id": "25aca666d1164a4585f700e5f651763b",
       "version_major": 2,
       "version_minor": 0
      },
      "text/plain": [
       "VBox(children=(Text(value='', description='Filter:', style=DescriptionStyle(description_width='initial')), Sel…"
      ]
     },
     "metadata": {},
     "output_type": "display_data"
    },
    {
     "data": {
      "text/html": [
       "<hr>"
      ],
      "text/plain": [
       "<IPython.core.display.HTML object>"
      ]
     },
     "metadata": {},
     "output_type": "display_data"
    },
    {
     "data": {
      "text/html": [
       "<h3>Empire Over-Pass-The-Hash</h3><div></div><div>Notes</div><div>Mordor ID: SDWIN-190319131123</div><div>This dataset represents adversaries taking a hash/key (rc4_hmac, aes256_cts_hmac_sha1, etc.) for a domain-joined user into a fully-fledged Kerberos TGT. In this case, an adversary can write the hash/key into an existing logon session (i.e. a sacrificial logon session) section in the memory content of LSASS and kick off the regular Kerberos authentication process.</div><div></div><div>Mitre Techniques: T1550: Use Alternate Authentication Material</div><div>Mitre Tactics: TA0005: Defense Evasion, TA0008: Lateral Movement</div><div></div><p><b>Parameters</b></p><br><p><b>Query</b></p><pre>https://raw.githubusercontent.com/OTRF/mordor/master/datasets/small/wi\n",
       "  ndows/credential_access/host/empire_over_pth_patch_lsass.zip</pre><br>\n",
       "        <p><b>Example</b></p>\n",
       "        <p>{QueryProvider}[.QueryPath].QueryName(params...)</p>\n",
       "        <pre>qry_prov.small.windows.credential_access.host.empire_over_pth_patch_lsass(start=start, end=end, hostname=host)</pre>\n",
       "    "
      ],
      "text/plain": [
       "<IPython.core.display.HTML object>"
      ]
     },
     "metadata": {},
     "output_type": "display_data"
    }
   ],
   "source": [
    "mdr_data.browse_queries()"
   ]
  }
 ],
 "metadata": {
  "kernelspec": {
   "display_name": "Python (condadev)",
   "language": "python",
   "name": "condadev"
  },
  "language_info": {
   "codemirror_mode": {
    "name": "ipython",
    "version": 3
   },
   "file_extension": ".py",
   "mimetype": "text/x-python",
   "name": "python",
   "nbconvert_exporter": "python",
   "pygments_lexer": "ipython3",
   "version": "3.6.10"
  },
  "widgets": {
   "application/vnd.jupyter.widget-state+json": {
    "state": {
     "0027108a789948fcbf6b54eb3eaa475b": {
      "model_module": "@jupyter-widgets/controls",
      "model_module_version": "1.5.0",
      "model_name": "DescriptionStyleModel",
      "state": {
       "description_width": "150px"
      }
     },
     "02413f57fc624d7797213da7254837da": {
      "model_module": "@jupyter-widgets/controls",
      "model_module_version": "1.5.0",
      "model_name": "HBoxModel",
      "state": {
       "children": [
        "IPY_MODEL_2a2c1302089d4df4ba58553549227e7f",
        "IPY_MODEL_a5f60780a78246b280d9e284372c4a5f"
       ],
       "layout": "IPY_MODEL_97b913953b474a099dc9cd1da27ee5fc"
      }
     },
     "02bb4cb1efe442df834383620b0dedc2": {
      "model_module": "@jupyter-widgets/base",
      "model_module_version": "1.2.0",
      "model_name": "LayoutModel",
      "state": {}
     },
     "02feb58a2b8540b8ac63ba88eef77ad8": {
      "model_module": "@jupyter-widgets/controls",
      "model_module_version": "1.5.0",
      "model_name": "DescriptionStyleModel",
      "state": {
       "description_width": ""
      }
     },
     "0754deac396e49ebaf44ae56d1380960": {
      "model_module": "@jupyter-widgets/base",
      "model_module_version": "1.2.0",
      "model_name": "LayoutModel",
      "state": {}
     },
     "090ad1f92f5d4d50abb57a523f35484a": {
      "model_module": "@jupyter-widgets/base",
      "model_module_version": "1.2.0",
      "model_name": "LayoutModel",
      "state": {}
     },
     "0a334cc0b6ff4a9d8d9c911aa98dc76b": {
      "model_module": "@jupyter-widgets/controls",
      "model_module_version": "1.5.0",
      "model_name": "ButtonStyleModel",
      "state": {}
     },
     "0cc77cbee3ce4d58bee512f62248aaf5": {
      "model_module": "@jupyter-widgets/base",
      "model_module_version": "1.2.0",
      "model_name": "LayoutModel",
      "state": {}
     },
     "0e7b6038c7b24d1a817d33bad7a52870": {
      "model_module": "@jupyter-widgets/controls",
      "model_module_version": "1.5.0",
      "model_name": "HBoxModel",
      "state": {
       "children": [
        "IPY_MODEL_5e3240a741494a94a2e6c3af1e126a22",
        "IPY_MODEL_acb672ede60543999b9087b3bd223d18",
        "IPY_MODEL_68b27aa785214474a58e9e5f2e218a22"
       ],
       "layout": "IPY_MODEL_0cc77cbee3ce4d58bee512f62248aaf5"
      }
     },
     "0fcb3e285dcb476ca5d841e0e12f55f8": {
      "model_module": "@jupyter-widgets/controls",
      "model_module_version": "1.5.0",
      "model_name": "HBoxModel",
      "state": {
       "children": [
        "IPY_MODEL_829be6f6e7624a1e9b9babab33b658d6",
        "IPY_MODEL_47939a8d5b494cf2bd08a3dc990e100c"
       ],
       "layout": "IPY_MODEL_3a3f9077d6d5405c845eca5188417a37"
      }
     },
     "103ef1ad75ed48d285b6dbfcd9180bc6": {
      "model_module": "@jupyter-widgets/base",
      "model_module_version": "1.2.0",
      "model_name": "LayoutModel",
      "state": {}
     },
     "13360cd0c726463587e22f008674c878": {
      "model_module": "@jupyter-widgets/controls",
      "model_module_version": "1.5.0",
      "model_name": "DescriptionStyleModel",
      "state": {
       "description_width": ""
      }
     },
     "14fde81f15624834911d8b9240649d79": {
      "model_module": "@jupyter-widgets/controls",
      "model_module_version": "1.5.0",
      "model_name": "DescriptionStyleModel",
      "state": {
       "description_width": "initial"
      }
     },
     "152dcb9ec9d541018bfae7cddcb955ab": {
      "model_module": "@jupyter-widgets/controls",
      "model_module_version": "1.5.0",
      "model_name": "DescriptionStyleModel",
      "state": {
       "description_width": "150px"
      }
     },
     "15dc250c36b44c4cbf7246868803d457": {
      "model_module": "@jupyter-widgets/controls",
      "model_module_version": "1.5.0",
      "model_name": "DescriptionStyleModel",
      "state": {
       "description_width": "150px"
      }
     },
     "16e3557fae5e47e6b4b4c844a2e74452": {
      "model_module": "@jupyter-widgets/controls",
      "model_module_version": "1.5.0",
      "model_name": "VBoxModel",
      "state": {
       "children": [
        "IPY_MODEL_b9e178ff344047b09a19979ab14499bd",
        "IPY_MODEL_e7114b02e08d4066a3717a5b34bc1f56",
        "IPY_MODEL_8cf412feb8b847238ee6e36ac4b04f20"
       ],
       "layout": "IPY_MODEL_4feb6af1e72242dcb4b4b91288d49ca9"
      }
     },
     "185628265e9e4bc3a2cc76b3cd2a2a7f": {
      "model_module": "@jupyter-widgets/base",
      "model_module_version": "1.2.0",
      "model_name": "LayoutModel",
      "state": {}
     },
     "1a19263c83fa4d8792fe7fcba3af97e1": {
      "model_module": "@jupyter-widgets/controls",
      "model_module_version": "1.5.0",
      "model_name": "HBoxModel",
      "state": {
       "children": [
        "IPY_MODEL_bcc7309de5c8496baecd58ff4a34cf3e",
        "IPY_MODEL_232d4701a6c04782be69a81105cda119"
       ],
       "layout": "IPY_MODEL_02bb4cb1efe442df834383620b0dedc2"
      }
     },
     "1f96eade249646a092d776a4b3aa8ab8": {
      "model_module": "@jupyter-widgets/controls",
      "model_module_version": "1.5.0",
      "model_name": "LabelModel",
      "state": {
       "layout": "IPY_MODEL_185628265e9e4bc3a2cc76b3cd2a2a7f",
       "style": "IPY_MODEL_02feb58a2b8540b8ac63ba88eef77ad8",
       "value": " comma ORs values, '+' ANDs values"
      }
     },
     "221d951c37254b2a81693eb86acde6f1": {
      "model_module": "@jupyter-widgets/base",
      "model_module_version": "1.2.0",
      "model_name": "LayoutModel",
      "state": {}
     },
     "232d4701a6c04782be69a81105cda119": {
      "model_module": "@jupyter-widgets/controls",
      "model_module_version": "1.5.0",
      "model_name": "HTMLModel",
      "state": {
       "layout": "IPY_MODEL_f655369b44144c94873e3a9fc7c9ee23",
       "style": "IPY_MODEL_ca8e7af0876a4eeda86db3e35914928f",
       "value": " 870/? [00:00&lt;00:00, 6875.61it/s]"
      }
     },
     "24f261a104a141408559f766a8f3d7d0": {
      "model_module": "@jupyter-widgets/controls",
      "model_module_version": "1.5.0",
      "model_name": "HTMLModel",
      "state": {
       "description": "attacks",
       "layout": "IPY_MODEL_5679d5d37b98490e97cbcab9f50e91f4",
       "style": "IPY_MODEL_62dfcd2ab65449adbb034437154b9b11",
       "value": "<div style='border: 1px solid #AAAAAA; padding: 5px'><p>Mitre Technique <b>T1222</b>  (sub: 001) : <a href='https://attack.mitre.org/techniques/T1222/' target='_blank'><u>File and Directory Permissions Modification</u></a></p>Mitre Tactics: <b>TA0005</b>: <a href='https://attack.mitre.org/tactics/TA0005/' target='_blank'><u>Defense Evasion</u></a></span>"
      }
     },
     "25aca666d1164a4585f700e5f651763b": {
      "model_module": "@jupyter-widgets/controls",
      "model_module_version": "1.5.0",
      "model_name": "VBoxModel",
      "state": {
       "children": [
        "IPY_MODEL_40bbed308430454f9c93bfcaec3da09e",
        "IPY_MODEL_e5ba767b416449bf98138fa2ccab882c"
       ],
       "layout": "IPY_MODEL_b2881ae3147645e8b98cb6745a7bf753"
      }
     },
     "2a2c1302089d4df4ba58553549227e7f": {
      "model_module": "@jupyter-widgets/controls",
      "model_module_version": "1.5.0",
      "model_name": "FloatProgressModel",
      "state": {
       "bar_style": "success",
       "description": "lines: ",
       "layout": "IPY_MODEL_090ad1f92f5d4d50abb57a523f35484a",
       "max": 1,
       "style": "IPY_MODEL_997fc212291246d588f6e0d788daf55b",
       "value": 1
      }
     },
     "2a60f6bd122a4163a7e497a1625e5acf": {
      "model_module": "@jupyter-widgets/controls",
      "model_module_version": "1.5.0",
      "model_name": "TextModel",
      "state": {
       "description": "tags",
       "layout": "IPY_MODEL_5679d5d37b98490e97cbcab9f50e91f4",
       "style": "IPY_MODEL_152dcb9ec9d541018bfae7cddcb955ab",
       "value": "AD Object Modification, AD Object nTSecurityDescriptor, LDAP ModifyRequest"
      }
     },
     "2d5332599fdc43f0a2a2c67990163d86": {
      "model_module": "@jupyter-widgets/controls",
      "model_module_version": "1.5.0",
      "model_name": "HBoxModel",
      "state": {
       "children": [
        "IPY_MODEL_8bc9e42e994c4a44bbd37238aa0056e8",
        "IPY_MODEL_6c1ec0501f2c4766af6d7c372dafc450"
       ],
       "layout": "IPY_MODEL_103ef1ad75ed48d285b6dbfcd9180bc6"
      }
     },
     "306c20ab1d4847f7ba54cb4ec93532ef": {
      "model_module": "@jupyter-widgets/controls",
      "model_module_version": "1.5.0",
      "model_name": "TextareaModel",
      "state": {
       "description": "description",
       "layout": "IPY_MODEL_5679d5d37b98490e97cbcab9f50e91f4",
       "style": "IPY_MODEL_7219c3b1be7a4a6cb2f6282540ae0d33",
       "value": "This datasets represent adversaries with enough permissions (i.e. domain admin) adding an access control entry (ACE) to the discretionary access control list (DACL) of an Active Directory object (i.e Root Domain). One example could be adversaries modifying the root domain DACL to allow a specific domain user, despite being in no privileged groups and not having local admin rights on the domain controller itself, to use Active Directory replication services and obtain secret domain data (i.e. Other user NTLM Hashes)"
      }
     },
     "30f879df4d5e488cbee7edbd8bb524b1": {
      "model_module": "@jupyter-widgets/base",
      "model_module_version": "1.2.0",
      "model_name": "LayoutModel",
      "state": {}
     },
     "37381e36368045738eef871ddf619424": {
      "model_module": "@jupyter-widgets/controls",
      "model_module_version": "1.5.0",
      "model_name": "TextModel",
      "state": {
       "description": "platform",
       "layout": "IPY_MODEL_5679d5d37b98490e97cbcab9f50e91f4",
       "style": "IPY_MODEL_bc7c259e56724100bf9984f40dfd4d99",
       "value": "Windows"
      }
     },
     "38699881fd55494d9bf56b2b8d171e7f": {
      "model_module": "@jupyter-widgets/controls",
      "model_module_version": "1.5.0",
      "model_name": "VBoxModel",
      "state": {
       "children": [
        "IPY_MODEL_8d0e925fd49f4c0f9b30b185dc456f03",
        "IPY_MODEL_0e7b6038c7b24d1a817d33bad7a52870"
       ],
       "layout": "IPY_MODEL_725eb2e0e84e4e8292c8752457f69d03"
      }
     },
     "3896144c968a4249aca1588f6ad4c56c": {
      "model_module": "@jupyter-widgets/base",
      "model_module_version": "1.2.0",
      "model_name": "LayoutModel",
      "state": {
       "width": "95%"
      }
     },
     "3a3f9077d6d5405c845eca5188417a37": {
      "model_module": "@jupyter-widgets/base",
      "model_module_version": "1.2.0",
      "model_name": "LayoutModel",
      "state": {}
     },
     "3e0cf6c08c60499898f7f43923cae028": {
      "model_module": "@jupyter-widgets/base",
      "model_module_version": "1.2.0",
      "model_name": "LayoutModel",
      "state": {
       "height": "100px",
       "width": "40%"
      }
     },
     "40bbed308430454f9c93bfcaec3da09e": {
      "model_module": "@jupyter-widgets/controls",
      "model_module_version": "1.5.0",
      "model_name": "TextModel",
      "state": {
       "description": "Filter:",
       "layout": "IPY_MODEL_bddda13f0e1d4b97bd27f966194a0182",
       "style": "IPY_MODEL_8070ad755f9146e3bce0c858c62c4a5c"
      }
     },
     "422c5152f0db4637bcc16e2b1a132fdf": {
      "model_module": "@jupyter-widgets/controls",
      "model_module_version": "1.5.0",
      "model_name": "HBoxModel",
      "state": {
       "children": [
        "IPY_MODEL_826a5c17a9804420b1efb7387b0876ef",
        "IPY_MODEL_f22dfb8a856e46889bcdc17ac37fb7db"
       ],
       "layout": "IPY_MODEL_30f879df4d5e488cbee7edbd8bb524b1"
      }
     },
     "435c2c152f6d4c62bda1782e2c353397": {
      "model_module": "@jupyter-widgets/controls",
      "model_module_version": "1.5.0",
      "model_name": "ProgressStyleModel",
      "state": {
       "description_width": "initial"
      }
     },
     "47939a8d5b494cf2bd08a3dc990e100c": {
      "model_module": "@jupyter-widgets/controls",
      "model_module_version": "1.5.0",
      "model_name": "HTMLModel",
      "state": {
       "layout": "IPY_MODEL_a446226914cd4252a5ad1c227258538a",
       "style": "IPY_MODEL_ca33c9c46fc549ceb2953a41e93dfa8e",
       "value": " 870/? [00:21&lt;00:00, 41.39it/s]"
      }
     },
     "484b72a1ee9a4a4683785a388e734aa9": {
      "model_module": "@jupyter-widgets/controls",
      "model_module_version": "1.5.0",
      "model_name": "DescriptionStyleModel",
      "state": {
       "description_width": "150px"
      }
     },
     "48dbc43baa724c7ea7d844e438e02313": {
      "model_module": "@jupyter-widgets/controls",
      "model_module_version": "1.5.0",
      "model_name": "FloatProgressModel",
      "state": {
       "bar_style": "success",
       "description": "lines: ",
       "layout": "IPY_MODEL_638648fdb730458ba48a793819d3dec4",
       "max": 1,
       "style": "IPY_MODEL_435c2c152f6d4c62bda1782e2c353397",
       "value": 1
      }
     },
     "4a407e8f51df4ce798a31392ebbd422f": {
      "model_module": "@jupyter-widgets/controls",
      "model_module_version": "1.5.0",
      "model_name": "HTMLModel",
      "state": {
       "description": "notebooks",
       "layout": "IPY_MODEL_5679d5d37b98490e97cbcab9f50e91f4",
       "style": "IPY_MODEL_814d7101cdaa4f1b9aa4c449dd9f0988",
       "value": "<div style='border: 1px solid #AAAAAA; padding: 5px'><p>Threat Hunter Playbook - <a href='https://threathunterplaybook.com/notebooks/windows/05_defense_evasion/defense_evasion/WIN-190101151110.htmls' target='_blank'><u>Active Directory Replication User Backdoor</u></a></p></span>"
      }
     },
     "4ecbf50af1664af88e95709753fa1c28": {
      "model_module": "@jupyter-widgets/controls",
      "model_module_version": "1.5.0",
      "model_name": "TextModel",
      "state": {
       "description": "Filter",
       "layout": "IPY_MODEL_5679d5d37b98490e97cbcab9f50e91f4",
       "style": "IPY_MODEL_7068abc9168046ae8d5ecc836a5b470e",
       "value": "Empire + Admin"
      }
     },
     "4feb6af1e72242dcb4b4b91288d49ca9": {
      "model_module": "@jupyter-widgets/base",
      "model_module_version": "1.2.0",
      "model_name": "LayoutModel",
      "state": {
       "border": "1px solid",
       "margin": "5px",
       "padding": "10px",
       "width": "80%"
      }
     },
     "4fee509259074d7a97339ba61719e384": {
      "model_module": "@jupyter-widgets/base",
      "model_module_version": "1.2.0",
      "model_name": "LayoutModel",
      "state": {}
     },
     "563cce7ed42e490d93428251f6c6e4ff": {
      "model_module": "@jupyter-widgets/base",
      "model_module_version": "1.2.0",
      "model_name": "LayoutModel",
      "state": {
       "height": "200px",
       "width": "70%"
      }
     },
     "5679d5d37b98490e97cbcab9f50e91f4": {
      "model_module": "@jupyter-widgets/base",
      "model_module_version": "1.2.0",
      "model_name": "LayoutModel",
      "state": {
       "width": "70%"
      }
     },
     "58c4c2cc9ef649d88cd1e160ef910ae9": {
      "model_module": "@jupyter-widgets/controls",
      "model_module_version": "1.5.0",
      "model_name": "DescriptionStyleModel",
      "state": {
       "description_width": "150px"
      }
     },
     "5e3240a741494a94a2e6c3af1e126a22": {
      "model_module": "@jupyter-widgets/controls",
      "model_module_version": "1.5.0",
      "model_name": "SelectMultipleModel",
      "state": {
       "_options_labels": [
        "T1078 - Valid Accounts",
        "T1530 - Data from Cloud Storage Object",
        "T1222 - File and Directory Permissions Modification",
        "T1003 - OS Credential Dumping",
        "T1069 - Permission Groups Discovery",
        "T1087 - Account Discovery",
        "T1547 - Boot or Logon Autostart Execution",
        "T1053 - Scheduled Task/Job",
        "T1550 - Use Alternate Authentication Material",
        "T1574 - Hijack Execution Flow",
        "T1059 - Command and Scripting Interpreter",
        "T1546 - Event Triggered Execution",
        "T1055 - Process Injection",
        "T1112 - Modify Registry",
        "T1021 - Remote Services",
        "T1047 - Windows Management Instrumentation",
        "T1049 - System Network Connections Discovery",
        "T1218 - Signed Binary Proxy Execution",
        "T1123 - Audio Capture",
        "T1548 - Abuse Elevation Control Mechanism",
        "T1210 - Exploitation of Remote Services"
       ],
       "description": "Mitre Techniques",
       "index": [
        0,
        1,
        2,
        3,
        4,
        5,
        6,
        7,
        8,
        9,
        10,
        11,
        12,
        13,
        14,
        15,
        16,
        17,
        18,
        19,
        20
       ],
       "layout": "IPY_MODEL_3e0cf6c08c60499898f7f43923cae028",
       "rows": 5,
       "style": "IPY_MODEL_15dc250c36b44c4cbf7246868803d457"
      }
     },
     "62dfcd2ab65449adbb034437154b9b11": {
      "model_module": "@jupyter-widgets/controls",
      "model_module_version": "1.5.0",
      "model_name": "DescriptionStyleModel",
      "state": {
       "description_width": "150px"
      }
     },
     "638648fdb730458ba48a793819d3dec4": {
      "model_module": "@jupyter-widgets/base",
      "model_module_version": "1.2.0",
      "model_name": "LayoutModel",
      "state": {}
     },
     "656cca1a74de4c5a9cbb3dc1ab3ee5ae": {
      "model_module": "@jupyter-widgets/controls",
      "model_module_version": "1.5.0",
      "model_name": "DescriptionStyleModel",
      "state": {
       "description_width": "150px"
      }
     },
     "662ac97cc11d4c93bcc6e75d6501496e": {
      "model_module": "@jupyter-widgets/base",
      "model_module_version": "1.2.0",
      "model_name": "LayoutModel",
      "state": {}
     },
     "668dc0f01a57472fadd0b0b5da256e33": {
      "model_module": "@jupyter-widgets/controls",
      "model_module_version": "1.5.0",
      "model_name": "DescriptionStyleModel",
      "state": {
       "description_width": ""
      }
     },
     "68b27aa785214474a58e9e5f2e218a22": {
      "model_module": "@jupyter-widgets/controls",
      "model_module_version": "1.5.0",
      "model_name": "ButtonModel",
      "state": {
       "description": "Reset filter",
       "layout": "IPY_MODEL_a97acb2e46e14631817f33572206a4b3",
       "style": "IPY_MODEL_0a334cc0b6ff4a9d8d9c911aa98dc76b"
      }
     },
     "6c184bc8a7e1444784fc6c1e61a3926f": {
      "model_module": "@jupyter-widgets/base",
      "model_module_version": "1.2.0",
      "model_name": "LayoutModel",
      "state": {}
     },
     "6c1ec0501f2c4766af6d7c372dafc450": {
      "model_module": "@jupyter-widgets/controls",
      "model_module_version": "1.5.0",
      "model_name": "HTMLModel",
      "state": {
       "layout": "IPY_MODEL_4fee509259074d7a97339ba61719e384",
       "style": "IPY_MODEL_668dc0f01a57472fadd0b0b5da256e33",
       "value": " 57/57 [00:13&lt;00:00,  4.18 files/s]"
      }
     },
     "6ee442efca7240ecbbeb87e6a66344bd": {
      "model_module": "@jupyter-widgets/controls",
      "model_module_version": "1.5.0",
      "model_name": "TextareaModel",
      "state": {
       "description": "query name",
       "layout": "IPY_MODEL_5679d5d37b98490e97cbcab9f50e91f4",
       "style": "IPY_MODEL_8e0120f471e84996a547a1afda1b6096",
       "value": "small.windows.defense_evasion.host.empire_powerview_ldap_ntsecuritydescriptor (Empire Powerview Add-DomainObjectAcl, SDWIN-190301125905)\nsmall.windows.defense_evasion.network.empire_powerview_ldap_ntsecuritydescriptor (Empire Powerview Add-DomainObjectAcl, SDWIN-190301125905)"
      }
     },
     "6f35cf3237f049aba7babb267ea9f95c": {
      "model_module": "@jupyter-widgets/controls",
      "model_module_version": "1.5.0",
      "model_name": "DescriptionStyleModel",
      "state": {
       "description_width": "150px"
      }
     },
     "7068abc9168046ae8d5ecc836a5b470e": {
      "model_module": "@jupyter-widgets/controls",
      "model_module_version": "1.5.0",
      "model_name": "DescriptionStyleModel",
      "state": {
       "description_width": "150px"
      }
     },
     "7219c3b1be7a4a6cb2f6282540ae0d33": {
      "model_module": "@jupyter-widgets/controls",
      "model_module_version": "1.5.0",
      "model_name": "DescriptionStyleModel",
      "state": {
       "description_width": "150px"
      }
     },
     "725eb2e0e84e4e8292c8752457f69d03": {
      "model_module": "@jupyter-widgets/base",
      "model_module_version": "1.2.0",
      "model_name": "LayoutModel",
      "state": {}
     },
     "7769057a10eb462390267a1678f1f928": {
      "model_module": "@jupyter-widgets/controls",
      "model_module_version": "1.5.0",
      "model_name": "TextModel",
      "state": {
       "description": "creation_date",
       "layout": "IPY_MODEL_5679d5d37b98490e97cbcab9f50e91f4",
       "style": "IPY_MODEL_db10becf1211436d9d96972c4a93d9a6",
       "value": "2019-03-01 00:00:00"
      }
     },
     "8070ad755f9146e3bce0c858c62c4a5c": {
      "model_module": "@jupyter-widgets/controls",
      "model_module_version": "1.5.0",
      "model_name": "DescriptionStyleModel",
      "state": {
       "description_width": "initial"
      }
     },
     "808f95e7c8574b12bbb17be153f9bdec": {
      "model_module": "@jupyter-widgets/controls",
      "model_module_version": "1.5.0",
      "model_name": "VBoxModel",
      "state": {
       "children": [
        "IPY_MODEL_9004225f5c874e9da42018764424662e",
        "IPY_MODEL_f39436151ec54aa9a9d921b9740d8da6",
        "IPY_MODEL_f9d2414e073e47299af83dc0f53ce6ce",
        "IPY_MODEL_7769057a10eb462390267a1678f1f928",
        "IPY_MODEL_df1c3f89f6a74ffba85040fda777fd6e",
        "IPY_MODEL_37381e36368045738eef871ddf619424",
        "IPY_MODEL_306c20ab1d4847f7ba54cb4ec93532ef",
        "IPY_MODEL_2a60f6bd122a4163a7e497a1625e5acf",
        "IPY_MODEL_422c5152f0db4637bcc16e2b1a132fdf",
        "IPY_MODEL_24f261a104a141408559f766a8f3d7d0",
        "IPY_MODEL_4a407e8f51df4ce798a31392ebbd422f",
        "IPY_MODEL_fb1b537052214431810805661ebb2886",
        "IPY_MODEL_c1d70a150dbb4f3490ed238ca40c1391",
        "IPY_MODEL_6ee442efca7240ecbbeb87e6a66344bd"
       ],
       "layout": "IPY_MODEL_4feb6af1e72242dcb4b4b91288d49ca9"
      }
     },
     "80e0be9f5c9646228f13330a729c85bb": {
      "model_module": "@jupyter-widgets/controls",
      "model_module_version": "1.5.0",
      "model_name": "VBoxModel",
      "state": {
       "children": [
        "IPY_MODEL_16e3557fae5e47e6b4b4c844a2e74452",
        "IPY_MODEL_808f95e7c8574b12bbb17be153f9bdec"
       ],
       "layout": "IPY_MODEL_6c184bc8a7e1444784fc6c1e61a3926f"
      }
     },
     "814d7101cdaa4f1b9aa4c449dd9f0988": {
      "model_module": "@jupyter-widgets/controls",
      "model_module_version": "1.5.0",
      "model_name": "DescriptionStyleModel",
      "state": {
       "description_width": "150px"
      }
     },
     "826a5c17a9804420b1efb7387b0876ef": {
      "model_module": "@jupyter-widgets/controls",
      "model_module_version": "1.5.0",
      "model_name": "SelectModel",
      "state": {
       "_options_labels": [
        "(Host) empire_powerview_ldap_ntsecuritydescriptor.zip",
        "(Network) empire_powerview_ldap_ntsecuritydescriptor.zip"
       ],
       "description": "file_paths",
       "index": 0,
       "layout": "IPY_MODEL_5679d5d37b98490e97cbcab9f50e91f4",
       "style": "IPY_MODEL_656cca1a74de4c5a9cbb3dc1ab3ee5ae"
      }
     },
     "829be6f6e7624a1e9b9babab33b658d6": {
      "model_module": "@jupyter-widgets/controls",
      "model_module_version": "1.5.0",
      "model_name": "FloatProgressModel",
      "state": {
       "bar_style": "success",
       "description": "lines: ",
       "layout": "IPY_MODEL_db034a2b39824cfe9e8a542909bd95ae",
       "max": 1,
       "style": "IPY_MODEL_ed8eecbb26024363aae9726cae3ed2ca",
       "value": 1
      }
     },
     "8bc9e42e994c4a44bbd37238aa0056e8": {
      "model_module": "@jupyter-widgets/controls",
      "model_module_version": "1.5.0",
      "model_name": "FloatProgressModel",
      "state": {
       "bar_style": "success",
       "description": "Downloading Mordor files: 100%",
       "layout": "IPY_MODEL_0754deac396e49ebaf44ae56d1380960",
       "max": 57,
       "style": "IPY_MODEL_9f9175cce9db4f8c8386ba6a6d85fe6c",
       "value": 57
      }
     },
     "8cf412feb8b847238ee6e36ac4b04f20": {
      "model_module": "@jupyter-widgets/controls",
      "model_module_version": "1.5.0",
      "model_name": "AccordionModel",
      "state": {
       "_titles": {
        "0": "Filters"
       },
       "children": [
        "IPY_MODEL_38699881fd55494d9bf56b2b8d171e7f"
       ],
       "layout": "IPY_MODEL_662ac97cc11d4c93bcc6e75d6501496e"
      }
     },
     "8d0e925fd49f4c0f9b30b185dc456f03": {
      "model_module": "@jupyter-widgets/controls",
      "model_module_version": "1.5.0",
      "model_name": "HBoxModel",
      "state": {
       "children": [
        "IPY_MODEL_4ecbf50af1664af88e95709753fa1c28",
        "IPY_MODEL_1f96eade249646a092d776a4b3aa8ab8"
       ],
       "layout": "IPY_MODEL_221d951c37254b2a81693eb86acde6f1"
      }
     },
     "8e0120f471e84996a547a1afda1b6096": {
      "model_module": "@jupyter-widgets/controls",
      "model_module_version": "1.5.0",
      "model_name": "DescriptionStyleModel",
      "state": {
       "description_width": "150px"
      }
     },
     "9004225f5c874e9da42018764424662e": {
      "model_module": "@jupyter-widgets/controls",
      "model_module_version": "1.5.0",
      "model_name": "TextModel",
      "state": {
       "description": "title",
       "layout": "IPY_MODEL_5679d5d37b98490e97cbcab9f50e91f4",
       "style": "IPY_MODEL_6f35cf3237f049aba7babb267ea9f95c",
       "value": "Empire Powerview Add-DomainObjectAcl"
      }
     },
     "9447a0ff38794c30a5eb959b40b760ec": {
      "model_module": "@jupyter-widgets/controls",
      "model_module_version": "1.5.0",
      "model_name": "DescriptionStyleModel",
      "state": {
       "description_width": "150px"
      }
     },
     "97b913953b474a099dc9cd1da27ee5fc": {
      "model_module": "@jupyter-widgets/base",
      "model_module_version": "1.2.0",
      "model_name": "LayoutModel",
      "state": {}
     },
     "997fc212291246d588f6e0d788daf55b": {
      "model_module": "@jupyter-widgets/controls",
      "model_module_version": "1.5.0",
      "model_name": "ProgressStyleModel",
      "state": {
       "description_width": "initial"
      }
     },
     "9f9175cce9db4f8c8386ba6a6d85fe6c": {
      "model_module": "@jupyter-widgets/controls",
      "model_module_version": "1.5.0",
      "model_name": "ProgressStyleModel",
      "state": {
       "description_width": "initial"
      }
     },
     "a446226914cd4252a5ad1c227258538a": {
      "model_module": "@jupyter-widgets/base",
      "model_module_version": "1.2.0",
      "model_name": "LayoutModel",
      "state": {}
     },
     "a5f60780a78246b280d9e284372c4a5f": {
      "model_module": "@jupyter-widgets/controls",
      "model_module_version": "1.5.0",
      "model_name": "HTMLModel",
      "state": {
       "layout": "IPY_MODEL_f752cb96d9ab4bcf9a54364fe3d2128e",
       "style": "IPY_MODEL_c8be9589f3154ea1b815fc0511c96b98",
       "value": " 870/? [30:02&lt;00:00,  2.07s/it]"
      }
     },
     "a84c1c091cf549e29a97449510a561e9": {
      "model_module": "@jupyter-widgets/base",
      "model_module_version": "1.2.0",
      "model_name": "LayoutModel",
      "state": {}
     },
     "a97acb2e46e14631817f33572206a4b3": {
      "model_module": "@jupyter-widgets/base",
      "model_module_version": "1.2.0",
      "model_name": "LayoutModel",
      "state": {}
     },
     "ac26d9be43294a2599b1b6be597ff661": {
      "model_module": "@jupyter-widgets/base",
      "model_module_version": "1.2.0",
      "model_name": "LayoutModel",
      "state": {}
     },
     "acb672ede60543999b9087b3bd223d18": {
      "model_module": "@jupyter-widgets/controls",
      "model_module_version": "1.5.0",
      "model_name": "SelectMultipleModel",
      "state": {
       "_options_labels": [
        "TA0001 - Initial Access",
        "TA0003 - Persistence",
        "TA0004 - Privilege Escalation",
        "TA0005 - Defense Evasion",
        "TA0009 - Collection",
        "TA0006 - Credential Access",
        "TA0007 - Discovery",
        "TA0008 - Lateral Movement",
        "TA0002 - Execution"
       ],
       "description": "Mitre Tactics",
       "index": [
        0,
        1,
        2,
        3,
        4,
        5,
        6,
        7,
        8
       ],
       "layout": "IPY_MODEL_3e0cf6c08c60499898f7f43923cae028",
       "rows": 5,
       "style": "IPY_MODEL_9447a0ff38794c30a5eb959b40b760ec"
      }
     },
     "b1bf6af0ce254aaf8eaa35055ba7c7ba": {
      "model_module": "@jupyter-widgets/controls",
      "model_module_version": "1.5.0",
      "model_name": "DescriptionStyleModel",
      "state": {
       "description_width": "150px"
      }
     },
     "b2881ae3147645e8b98cb6745a7bf753": {
      "model_module": "@jupyter-widgets/base",
      "model_module_version": "1.2.0",
      "model_name": "LayoutModel",
      "state": {}
     },
     "b2d3e55db23444cfb15f4189783c396c": {
      "model_module": "@jupyter-widgets/controls",
      "model_module_version": "1.5.0",
      "model_name": "DescriptionStyleModel",
      "state": {
       "description_width": ""
      }
     },
     "b9e178ff344047b09a19979ab14499bd": {
      "model_module": "@jupyter-widgets/controls",
      "model_module_version": "1.5.0",
      "model_name": "HTMLModel",
      "state": {
       "layout": "IPY_MODEL_df6db7e23fad4eb8999dbee5f081adb3",
       "style": "IPY_MODEL_13360cd0c726463587e22f008674c878",
       "value": "<h2>Mordor dataset browser</h2>"
      }
     },
     "baac3ce447a64f188bcb3af4786c25ff": {
      "model_module": "@jupyter-widgets/base",
      "model_module_version": "1.2.0",
      "model_name": "LayoutModel",
      "state": {}
     },
     "bc7c259e56724100bf9984f40dfd4d99": {
      "model_module": "@jupyter-widgets/controls",
      "model_module_version": "1.5.0",
      "model_name": "DescriptionStyleModel",
      "state": {
       "description_width": "150px"
      }
     },
     "bcc7309de5c8496baecd58ff4a34cf3e": {
      "model_module": "@jupyter-widgets/controls",
      "model_module_version": "1.5.0",
      "model_name": "FloatProgressModel",
      "state": {
       "bar_style": "success",
       "description": "lines: ",
       "layout": "IPY_MODEL_ac26d9be43294a2599b1b6be597ff661",
       "max": 1,
       "style": "IPY_MODEL_c113244d3129470095d67fcf6d6c2d3a",
       "value": 1
      }
     },
     "bd6d813b064d469e896c915c472d436d": {
      "model_module": "@jupyter-widgets/controls",
      "model_module_version": "1.5.0",
      "model_name": "DescriptionStyleModel",
      "state": {
       "description_width": "150px"
      }
     },
     "bddda13f0e1d4b97bd27f966194a0182": {
      "model_module": "@jupyter-widgets/base",
      "model_module_version": "1.2.0",
      "model_name": "LayoutModel",
      "state": {}
     },
     "be432b812e31410ebadcf879ad6c9575": {
      "model_module": "@jupyter-widgets/controls",
      "model_module_version": "1.5.0",
      "model_name": "HTMLModel",
      "state": {
       "layout": "IPY_MODEL_c4b0f270458942d7854cabad2b2d976d",
       "style": "IPY_MODEL_b2d3e55db23444cfb15f4189783c396c",
       "value": " 870/? [00:00&lt;00:00, 11915.09it/s]"
      }
     },
     "c113244d3129470095d67fcf6d6c2d3a": {
      "model_module": "@jupyter-widgets/controls",
      "model_module_version": "1.5.0",
      "model_name": "ProgressStyleModel",
      "state": {
       "description_width": "initial"
      }
     },
     "c19fa293822a43369df47984c2b369ab": {
      "model_module": "@jupyter-widgets/controls",
      "model_module_version": "1.5.0",
      "model_name": "HBoxModel",
      "state": {
       "children": [
        "IPY_MODEL_48dbc43baa724c7ea7d844e438e02313",
        "IPY_MODEL_be432b812e31410ebadcf879ad6c9575"
       ],
       "layout": "IPY_MODEL_baac3ce447a64f188bcb3af4786c25ff"
      }
     },
     "c1d70a150dbb4f3490ed238ca40c1391": {
      "model_module": "@jupyter-widgets/controls",
      "model_module_version": "1.5.0",
      "model_name": "TextareaModel",
      "state": {
       "description": "references",
       "layout": "IPY_MODEL_5679d5d37b98490e97cbcab9f50e91f4",
       "style": "IPY_MODEL_0027108a789948fcbf6b54eb3eaa475b",
       "value": "None"
      }
     },
     "c4b0f270458942d7854cabad2b2d976d": {
      "model_module": "@jupyter-widgets/base",
      "model_module_version": "1.2.0",
      "model_name": "LayoutModel",
      "state": {}
     },
     "c87b46d904bc4042b230cf18eaf181b1": {
      "model_module": "@jupyter-widgets/controls",
      "model_module_version": "1.5.0",
      "model_name": "ButtonStyleModel",
      "state": {}
     },
     "c8be9589f3154ea1b815fc0511c96b98": {
      "model_module": "@jupyter-widgets/controls",
      "model_module_version": "1.5.0",
      "model_name": "DescriptionStyleModel",
      "state": {
       "description_width": ""
      }
     },
     "ca33c9c46fc549ceb2953a41e93dfa8e": {
      "model_module": "@jupyter-widgets/controls",
      "model_module_version": "1.5.0",
      "model_name": "DescriptionStyleModel",
      "state": {
       "description_width": ""
      }
     },
     "ca8e7af0876a4eeda86db3e35914928f": {
      "model_module": "@jupyter-widgets/controls",
      "model_module_version": "1.5.0",
      "model_name": "DescriptionStyleModel",
      "state": {
       "description_width": ""
      }
     },
     "db034a2b39824cfe9e8a542909bd95ae": {
      "model_module": "@jupyter-widgets/base",
      "model_module_version": "1.2.0",
      "model_name": "LayoutModel",
      "state": {}
     },
     "db10becf1211436d9d96972c4a93d9a6": {
      "model_module": "@jupyter-widgets/controls",
      "model_module_version": "1.5.0",
      "model_name": "DescriptionStyleModel",
      "state": {
       "description_width": "150px"
      }
     },
     "df1c3f89f6a74ffba85040fda777fd6e": {
      "model_module": "@jupyter-widgets/controls",
      "model_module_version": "1.5.0",
      "model_name": "TextModel",
      "state": {
       "description": "modification_date",
       "layout": "IPY_MODEL_5679d5d37b98490e97cbcab9f50e91f4",
       "style": "IPY_MODEL_58c4c2cc9ef649d88cd1e160ef910ae9",
       "value": "2020-09-20 00:00:00"
      }
     },
     "df6db7e23fad4eb8999dbee5f081adb3": {
      "model_module": "@jupyter-widgets/base",
      "model_module_version": "1.2.0",
      "model_name": "LayoutModel",
      "state": {}
     },
     "e3cb0b81674741ea923b676800c5279d": {
      "model_module": "@jupyter-widgets/controls",
      "model_module_version": "1.5.0",
      "model_name": "DescriptionStyleModel",
      "state": {
       "description_width": "150px"
      }
     },
     "e50835aa418c44e8a57ea90ef2000d23": {
      "model_module": "@jupyter-widgets/base",
      "model_module_version": "1.2.0",
      "model_name": "LayoutModel",
      "state": {
       "height": "300px",
       "width": "50%"
      }
     },
     "e5ba767b416449bf98138fa2ccab882c": {
      "model_module": "@jupyter-widgets/controls",
      "model_module_version": "1.5.0",
      "model_name": "SelectModel",
      "state": {
       "_options_labels": [
        "small.aws.collection.ec2_proxy_s3_exfiltration",
        "small.windows.collection.host.msf_record_mic",
        "small.windows.credential_access.host.covenant_dcsync_dcerpc_drsuapi_DsGetNCChanges",
        "small.windows.credential_access.host.empire_dcsync_dcerpc_drsuapi_DsGetNCChanges",
        "small.windows.credential_access.host.empire_mimikatz_backupkeys_dcerpc_smb_lsarpc",
        "small.windows.credential_access.host.empire_mimikatz_extract_keys",
        "small.windows.credential_access.host.empire_mimikatz_logonpasswords",
        "small.windows.credential_access.host.empire_mimikatz_lsadump_patch",
        "small.windows.credential_access.host.empire_mimikatz_sam_access",
        "small.windows.credential_access.host.empire_over_pth_patch_lsass",
        "small.windows.credential_access.host.empire_powerdump_sam_access",
        "small.windows.credential_access.host.empire_shell_reg_dump_sam",
        "small.windows.credential_access.host.empire_shell_rubeus_asktgt_createnetonly",
        "small.windows.credential_access.host.empire_shell_rubeus_asktgt_ptt",
        "small.windows.credential_access.host.rdp_interactive_taskmanager_lsass_dump",
        "small.windows.credential_access.network.covenant_dcsync_dcerpc_drsuapi_DsGetNCChanges",
        "small.windows.credential_access.network.empire_dcsync_dcerpc_drsuapi_DsGetNCChanges",
        "small.windows.credential_access.network.empire_mimikatz_backupkeys_dcerpc_smb_lsarpc",
        "small.windows.credential_access.network.empire_shell_rubeus_asktgt_createnetonly",
        "small.windows.credential_access.network.empire_shell_rubeus_asktgt_ptt",
        "small.windows.defense_evasion.host.covenant_installutil",
        "small.windows.defense_evasion.host.empire_dllinjection_LoadLibrary_CreateRemoteThread",
        "small.windows.defense_evasion.host.empire_launcher_sct_regsvr32",
        "small.windows.defense_evasion.host.empire_monologue_netntlm_downgrade",
        "small.windows.defense_evasion.host.empire_powerview_ldap_ntsecuritydescriptor",
        "small.windows.defense_evasion.host.empire_psinject_PEinjection",
        "small.windows.defense_evasion.host.empire_enable_rdp.tar",
        "small.windows.defense_evasion.host.empire_wdigest_downgrade.tar",
        "small.windows.defense_evasion.network.empire_powerview_ldap_ntsecuritydescriptor",
        "small.windows.discovery.host.covenant_getdomaingroup_ldap_searchrequest_domain_admins",
        "small.windows.discovery.host.empire_find_localadmin_smb_svcctl_OpenSCManager",
        "small.windows.discovery.host.empire_getsession_dcerpc_smb_srvsvc_NetSessEnum",
        "small.windows.discovery.host.empire_shell_net_local_users",
        "small.windows.discovery.host.empire_shell_net_localgroup_administrators",
        "small.windows.discovery.host.empire_shell_rpc_samr_smb_group_domain_admins_standard_user",
        "small.windows.discovery.host.empire_shell_samr_EnumDomainUsers",
        "small.windows.discovery.network.covenant_getdomaingroup_ldap_searchrequest_domain_admins",
        "small.windows.discovery.network.empire_getsession_dcerpc_smb_srvsvc_NetSessEnum",
        "small.windows.discovery.network.empire_shell_rpc_samr_smb_group_domain_admins_standard_user",
        "small.windows.discovery.network.empire_shell_samr_EnumDomainUsers",
        "small.windows.execution.host.empire_launcher_vbs",
        "small.windows.lateral_movement.host.covenant_copy_smb_CreateRequest",
        "small.windows.lateral_movement.host.covenant_dcom_executeexcel4macro_allowed",
        "small.windows.lateral_movement.host.covenant_dcom_registerxll",
        "small.windows.lateral_movement.host.covenant_psremoting_command",
        "small.windows.lateral_movement.host.covenant_sc_query_dcerpc_smb_svcctl",
        "small.windows.lateral_movement.host.covenant_sharpsc_create_dcerpc_smb_svcctl",
        "small.windows.lateral_movement.host.covenant_sharpsc_query_dcerpc_smb_svcctl",
        "small.windows.lateral_movement.host.covenant_sharpsc_start_dcerpc_smb_svcctl",
        "small.windows.lateral_movement.host.covenant_sharpsc_stop_dcerpc_smb_svcctl",
        "small.windows.lateral_movement.host.covenant_sharpwmi_create_dcerpc_wmi",
        "small.windows.lateral_movement.host.covenant_wmi_remote_event_subscription_ActiveScriptEventConsumers",
        "small.windows.lateral_movement.host.empire_dcom_shellwindows_stager",
        "small.windows.lateral_movement.host.empire_msbuild_dcerpc_wmi_smb",
        "small.windows.lateral_movement.host.empire_psexec_dcerpc_tcp_svcctl",
        "small.windows.lateral_movement.host.empire_psremoting_stager",
        "small.windows.lateral_movement.host.empire_shell_dcerpc_smb_service_dll_hijack",
        "small.windows.lateral_movement.host.empire_smbexec_dcerpc_smb_svcctl",
        "small.windows.lateral_movement.host.empire_wmi_dcerpc_wmi_IWbemServices_ExecMethod",
        "small.windows.lateral_movement.host.empire_wmic_add_user_backdoor",
        "small.windows.lateral_movement.host.mimikatz_CVE-2020-1472_Unauthenticated_NetrServerAuthenticate2",
        "small.windows.lateral_movement.network.covenant_dcom_executeexcel4macro_allowed",
        "small.windows.lateral_movement.network.covenant_dcom_registerxll",
        "small.windows.lateral_movement.network.covenant_psremoting_command",
        "small.windows.lateral_movement.network.covenant_sc_query_dcerpc_smb_svcctl",
        "small.windows.lateral_movement.network.covenant_sharpsc_create_dcerpc_smb_svcctl",
        "small.windows.lateral_movement.network.covenant_sharpsc_query_dcerpc_smb_svcctl",
        "small.windows.lateral_movement.network.covenant_sharpsc_start_dcerpc_smb_svcctl",
        "small.windows.lateral_movement.network.covenant_sharpsc_stop_dcerpc_smb_svcctl",
        "small.windows.lateral_movement.network.covenant_sharpwmi_create_dcerpc_wmi",
        "small.windows.lateral_movement.network.covenant_wmi_remote_event_subscription_ActiveScriptEventConsumers",
        "small.windows.lateral_movement.network.empire_dcom_shellwindows_stager",
        "small.windows.lateral_movement.network.empire_msbuild_dcerpc_wmi_smb",
        "small.windows.lateral_movement.network.empire_psexec_dcerpc_tcp_svcctl",
        "small.windows.lateral_movement.network.empire_psremoting_stager",
        "small.windows.lateral_movement.network.empire_shell_dcerpc_smb_service_dll_hijack",
        "small.windows.lateral_movement.network.empire_smbexec_dcerpc_smb_svcctl",
        "small.windows.lateral_movement.network.empire_wmi_dcerpc_wmi_IWbemServices_ExecMethod",
        "small.windows.lateral_movement.network.mimikatz_CVE-2020-1472_Unauthenticated_NetrServerAuthenticate2",
        "small.windows.persistence.host.empire_persistence_registry_modification_run_keys_elevated_user",
        "small.windows.persistence.host.empire_persistence_registry_modification_run_keys_standard_user",
        "small.windows.persistence.host.empire_schtasks_creation_execution_elevated_user",
        "small.windows.persistence.host.empire_schtasks_creation_standard_user",
        "small.windows.persistence.host.empire_wmi_local_event_subscriptions_elevated_user",
        "small.windows.privilege_escalation.host.empire_uac_shellapi_fodhelper"
       ],
       "description": "Select an item",
       "index": 9,
       "layout": "IPY_MODEL_e50835aa418c44e8a57ea90ef2000d23",
       "style": "IPY_MODEL_14fde81f15624834911d8b9240649d79"
      }
     },
     "e7114b02e08d4066a3717a5b34bc1f56": {
      "model_module": "@jupyter-widgets/controls",
      "model_module_version": "1.5.0",
      "model_name": "SelectModel",
      "state": {
       "_options_labels": [
        "SDWIN-190301125905 Empire Powerview Add-DomainObjectAcl (Windows)",
        "SDWIN-190301174830 Empire DCSync (Windows)",
        "SDWIN-190319020147 Empire Net Local Administrators Group (Windows)",
        "SDWIN-190319023812 Empire Userland Registry Run Keys (Windows)",
        "SDWIN-190319024742 Empire Userland Scheduled Tasks (Windows)",
        "SDWIN-190319131123 Empire Over-Pass-The-Hash (Windows)",
        "SDWIN-190403133337 IKEEXT Remote Service DLL Hijack (Windows)",
        "SDWIN-190518184306 Empire Elevated WMI Eventing (Windows)",
        "SDWIN-190518200432 Empire PSInject (Windows)",
        "SDWIN-190518201207 Empire Shell Net Domain Admins (Windows)",
        "SDWIN-190518201922 Empire WDigest Downgrade (Windows)",
        "SDWIN-190518202151 Empire Mimikatz LogonPasswords (Windows)",
        "SDWIN-190518203650 Empire Enable RDP (Windows)",
        "SDWIN-190518210125 Empire Invoke SMBExec (Windows)",
        "SDWIN-190518210652 Empire Invoke PsExec (Windows)",
        "SDWIN-190518211052 Empire Invoke DCOM ShellWindows (Windows)",
        "SDWIN-190518211456 Empire Invoke PSRemoting (Windows)",
        "SDWIN-190518213907 Empire Invoke Execute MSBuild (Windows)",
        "SDWIN-190518221344 Empire Invoke DLLInjection (Windows)",
        "SDWIN-190518224039 Empire Find Local Admin Access (Windows)",
        "SDWIN-190518230752 Empire Mimikatz Extract Kerberos Keys (Windows)",
        "SDWIN-190518235535 Empire Mimikatz Backup Keys (Windows)",
        "SDWIN-190519005224 Empire Remote Get Session (Windows)",
        "SDWIN-190625103712 Empire Mimikatz SAM Extract Hashes (Windows)",
        "SDWIN-190625133822 Empire Reg Dump SAM Hive (Windows)",
        "SDWIN-191225045202 Empire Invoke InternalMonologue (Windows)",
        "SDWIN-200721232741 Empire Regsvr32 Execution (Windows)",
        "SDWIN-200722001847 Empire Elevated Registry Run Keys (Windows)",
        "SDWIN-200807103913 Empire Mimikatz Lsadump LSA Patch (Windows)",
        "SDWIN-200904032946 Invoke BypassUAC FodHelper (Windows)",
        "SDWIN-200921001437 Empire Invoke WMI (Windows)",
        "SDWIN-200921175806 Empire Elevated Scheduled Tasks (Windows)",
        "SDWIN-200921230246 Rubeus Elevated ASKTGT CreateNetOnly (Windows)",
        "SDWIN-200922042230 Empire Powerdump Extract Hashes (Windows)"
       ],
       "description": "Data sets",
       "index": 0,
       "layout": "IPY_MODEL_5679d5d37b98490e97cbcab9f50e91f4",
       "style": "IPY_MODEL_e3cb0b81674741ea923b676800c5279d"
      }
     },
     "ed8eecbb26024363aae9726cae3ed2ca": {
      "model_module": "@jupyter-widgets/controls",
      "model_module_version": "1.5.0",
      "model_name": "ProgressStyleModel",
      "state": {
       "description_width": "initial"
      }
     },
     "f22dfb8a856e46889bcdc17ac37fb7db": {
      "model_module": "@jupyter-widgets/controls",
      "model_module_version": "1.5.0",
      "model_name": "ButtonModel",
      "state": {
       "description": "Download",
       "layout": "IPY_MODEL_a84c1c091cf549e29a97449510a561e9",
       "style": "IPY_MODEL_c87b46d904bc4042b230cf18eaf181b1"
      }
     },
     "f39436151ec54aa9a9d921b9740d8da6": {
      "model_module": "@jupyter-widgets/controls",
      "model_module_version": "1.5.0",
      "model_name": "TextModel",
      "state": {
       "description": "id",
       "layout": "IPY_MODEL_5679d5d37b98490e97cbcab9f50e91f4",
       "style": "IPY_MODEL_b1bf6af0ce254aaf8eaa35055ba7c7ba",
       "value": "SDWIN-190301125905"
      }
     },
     "f655369b44144c94873e3a9fc7c9ee23": {
      "model_module": "@jupyter-widgets/base",
      "model_module_version": "1.2.0",
      "model_name": "LayoutModel",
      "state": {}
     },
     "f752cb96d9ab4bcf9a54364fe3d2128e": {
      "model_module": "@jupyter-widgets/base",
      "model_module_version": "1.2.0",
      "model_name": "LayoutModel",
      "state": {}
     },
     "f9d2414e073e47299af83dc0f53ce6ce": {
      "model_module": "@jupyter-widgets/controls",
      "model_module_version": "1.5.0",
      "model_name": "TextModel",
      "state": {
       "description": "author",
       "layout": "IPY_MODEL_5679d5d37b98490e97cbcab9f50e91f4",
       "style": "IPY_MODEL_bd6d813b064d469e896c915c472d436d",
       "value": "Roberto Rodriguez @Cyb3rWard0g"
      }
     },
     "fb1b537052214431810805661ebb2886": {
      "model_module": "@jupyter-widgets/controls",
      "model_module_version": "1.5.0",
      "model_name": "TextareaModel",
      "state": {
       "description": "simulation",
       "layout": "IPY_MODEL_563cce7ed42e490d93428251f6c6e4ff",
       "style": "IPY_MODEL_484b72a1ee9a4a4683785a388e734aa9",
       "value": "{'adversary_view': '(Empire: stager/multi/launcher) > agents\\n'\n                   '\\n'\n                   '[*] Active agents:\\n'\n                   '\\n'\n                   'Name     La Internal IP     Machine Name      '\n                   'Username                Process            PID    Delay    '\n                   'Last Seen            Listener\\n'\n                   '----     -- -----------     ------------      '\n                   '--------                -------            ---    -----    '\n                   '---------            ----------------\\n'\n                   'A7BWPR32 ps 172.18.39.5     WORKSTATION5      '\n                   '*THESHIRE\\\\pgustavo      powershell         5904   '\n                   '5/0.0    2020-09-18 18:29:36  http            \\n'\n                   'HBEW9G1D ps 172.18.39.6     WORKSTATION6      '\n                   'THESHIRE\\\\sbeavers       powershell         6036   '\n                   '5/0.0    2020-09-18 18:15:39  http            \\n'\n                   'UF5MYK42 ps 172.18.39.5     WORKSTATION5      '\n                   '*THESHIRE\\\\pgustavo      powershell         6404   '\n                   '5/0.0    2020-09-20 21:28:07  http            \\n'\n                   '\\n'\n                   '8BUCWV1P ps 172.18.39.5     WORKSTATION5      '\n                   '*THESHIRE\\\\pgustavo      powershell         2488   '\n                   '5/0.0    2020-09-21 17:09:43  http            \\n'\n                   '\\n'\n                   '(Empire: agents) > interact 8BUCWV1P\\n'\n                   '(Empire: 8BUCWV1P) > scriptimport '\n                   'data/module_source/situational_awareness/network/powerview.ps1\\n'\n                   '[*] Tasked 8BUCWV1P to run TASK_SCRIPT_IMPORT\\n'\n                   '[*] Agent 8BUCWV1P tasked with task ID 1\\n'\n                   '(Empire: 8BUCWV1P) > \\n'\n                   'script successfully saved in memory\\n'\n                   '\\n'\n                   '(Empire: 8BUCWV1P) > scriptcmd Add-DomainObjectAcl '\n                   '-TargetIdentity \"dc=theshire,dc=local\" -TargetDomain '\n                   'theshire.local -PrincipalIdentity nmartha -Rights DCSync\\n'\n                   '[*] Tasked 8BUCWV1P to run TASK_SCRIPT_COMMAND\\n'\n                   '[*] Agent 8BUCWV1P tasked with task ID 2\\n'\n                   '(Empire: 8BUCWV1P) > \\n'\n                   'Job started: 5WSPKL\\n'\n                   '\\n'\n                   '(Empire: 8BUCWV1P) > scriptcmd $nmarthaSid = '\n                   'Get-DomainUser nmartha | Select-Object -ExpandProperty '\n                   'objectsid; Get-DomainObjectACL  \"dc=theshire,dc=local\" '\n                   '-Domain theshire.local -ResolveGUIDs | Where-Object '\n                   '{$_.securityidentifier -eq $nmarthaSid}\\n'\n                   '[*] Tasked 8BUCWV1P to run TASK_SCRIPT_COMMAND\\n'\n                   '[*] Agent 8BUCWV1P tasked with task ID 3\\n'\n                   '(Empire: 8BUCWV1P) > \\n'\n                   'Job started: YG1ZB3\\n'\n                   '\\n'\n                   'AceQualifier           : AccessAllowed\\n'\n                   'ObjectDN               : DC=theshire,DC=local\\n'\n                   'ActiveDirectoryRights  : ExtendedRight\\n'\n                   'ObjectAceType          : '\n                   'DS-Replication-Get-Changes-In-Filtered-Set\\n'\n                   'ObjectSID              : '\n                   'S-1-5-21-4228717743-1032521047-1810997296\\n'\n                   'InheritanceFlags       : None\\n'\n                   'BinaryLength           : 56\\n'\n                   'AceType                : AccessAllowedObject\\n'\n                   'ObjectAceFlags         : ObjectAceTypePresent\\n'\n                   'IsCallback             : False\\n'\n                   'PropagationFlags       : None\\n'\n                   'SecurityIdentifier     : '\n                   'S-1-5-21-4228717743-1032521047-1810997296-1103\\n'\n                   'AccessMask             : 256\\n'\n                   'AuditFlags             : None\\n'\n                   'IsInherited            : False\\n'\n                   'AceFlags               : None\\n'\n                   'InheritedObjectAceType : All\\n'\n                   'OpaqueLength           : 0\\n'\n                   '\\n'\n                   'AceQualifier           : AccessAllowed\\n'\n                   'ObjectDN               : DC=theshire,DC=local\\n'\n                   'ActiveDirectoryRights  : ExtendedRight\\n'\n                   'ObjectAceType          : DS-Replication-Get-Changes\\n'\n                   'ObjectSID              : '\n                   'S-1-5-21-4228717743-1032521047-1810997296\\n'\n                   'InheritanceFlags       : None\\n'\n                   'BinaryLength           : 56\\n'\n                   'AceType                : AccessAllowedObject\\n'\n                   'ObjectAceFlags         : ObjectAceTypePresent\\n'\n                   'IsCallback             : False\\n'\n                   'PropagationFlags       : None\\n'\n                   'SecurityIdentifier     : '\n                   'S-1-5-21-4228717743-1032521047-1810997296-1103\\n'\n                   'AccessMask             : 256\\n'\n                   'AuditFlags             : None\\n'\n                   'IsInherited            : False\\n'\n                   'AceFlags               : None\\n'\n                   'InheritedObjectAceType : All\\n'\n                   'OpaqueLength           : 0\\n'\n                   '\\n'\n                   'AceQualifier           : AccessAllowed\\n'\n                   'ObjectDN               : DC=theshire,DC=local\\n'\n                   'ActiveDirectoryRights  : ExtendedRight\\n'\n                   'ObjectAceType          : DS-Replication-Get-Changes-All\\n'\n                   'ObjectSID              : '\n                   'S-1-5-21-4228717743-1032521047-1810997296\\n'\n                   'InheritanceFlags       : None\\n'\n                   'BinaryLength           : 56\\n'\n                   'AceType                : AccessAllowedObject\\n'\n                   'ObjectAceFlags         : ObjectAceTypePresent\\n'\n                   'IsCallback             : False\\n'\n                   'PropagationFlags       : None\\n'\n                   'SecurityIdentifier     : '\n                   'S-1-5-21-4228717743-1032521047-1810997296-1103\\n'\n                   'AccessMask             : 256\\n'\n                   'AuditFlags             : None\\n'\n                   'IsInherited            : False\\n'\n                   'AceFlags               : None\\n'\n                   'InheritedObjectAceType : All\\n'\n                   'OpaqueLength           : 0',\n 'environment': 'https://github.com/OTRF/mordor-labs/tree/master/environments/windows/shire',\n 'permissions_required': ['Domain Admin'],\n 'tools': [{'module': 'powerview',\n            'name': 'Empire',\n            'script': 'https://github.com/EmpireProject/Empire/blob/master/data/module_source/situational_awareness/network/powerview.ps1',\n            'type': 'C2'}]}"
      }
     }
    },
    "version_major": 2,
    "version_minor": 0
   }
  }
 },
 "nbformat": 4,
 "nbformat_minor": 4
}
